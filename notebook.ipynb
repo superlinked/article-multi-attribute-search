{
 "cells": [
  {
   "cell_type": "markdown",
   "metadata": {},
   "source": [
    "# Multi-attribute search with vector embeddings"
   ]
  },
  {
   "cell_type": "code",
   "execution_count": 1,
   "metadata": {},
   "outputs": [],
   "source": [
    "# pip install ipykernel pandas superlinked tabulate"
   ]
  },
  {
   "cell_type": "markdown",
   "metadata": {},
   "source": [
    "## Dataset"
   ]
  },
  {
   "cell_type": "code",
   "execution_count": 2,
   "metadata": {},
   "outputs": [],
   "source": [
    "import json\n",
    "import pandas as pd\n",
    "pd.set_option(\"display.max_colwidth\", 1000)"
   ]
  },
  {
   "cell_type": "code",
   "execution_count": 3,
   "metadata": {},
   "outputs": [
    {
     "data": {
      "text/html": [
       "<div>\n",
       "<style scoped>\n",
       "    .dataframe tbody tr th:only-of-type {\n",
       "        vertical-align: middle;\n",
       "    }\n",
       "\n",
       "    .dataframe tbody tr th {\n",
       "        vertical-align: top;\n",
       "    }\n",
       "\n",
       "    .dataframe thead th {\n",
       "        text-align: right;\n",
       "    }\n",
       "</style>\n",
       "<table border=\"1\" class=\"dataframe\">\n",
       "  <thead>\n",
       "    <tr style=\"text-align: right;\">\n",
       "      <th></th>\n",
       "      <th>name</th>\n",
       "      <th>look</th>\n",
       "      <th>habitat</th>\n",
       "      <th>behavior</th>\n",
       "    </tr>\n",
       "  </thead>\n",
       "  <tbody>\n",
       "    <tr>\n",
       "      <th>0</th>\n",
       "      <td>Luminoth</td>\n",
       "      <td>Moth-like creature with glowing wings and antenna</td>\n",
       "      <td>Dense forests and jungles with bioluminescent flora</td>\n",
       "      <td>Emits soothing light patterns to communicate and attract prey</td>\n",
       "    </tr>\n",
       "    <tr>\n",
       "      <th>1</th>\n",
       "      <td>Aqua Wraith</td>\n",
       "      <td>Translucent humanoid figure made of flowing water</td>\n",
       "      <td>Rivers, lakes, and coastal areas</td>\n",
       "      <td>Shapeshifts to blend with water bodies and controls currents</td>\n",
       "    </tr>\n",
       "    <tr>\n",
       "      <th>2</th>\n",
       "      <td>Stoneheart Golem</td>\n",
       "      <td>Massive humanoid composed of interlocking rock formations</td>\n",
       "      <td>Rocky mountains and ancient ruins</td>\n",
       "      <td>Hibernates for centuries, awakens to protect its territory</td>\n",
       "    </tr>\n",
       "    <tr>\n",
       "      <th>3</th>\n",
       "      <td>Whispering Shade</td>\n",
       "      <td>Shadowy, amorphous being with glowing eyes</td>\n",
       "      <td>Dark forests and abandoned buildings</td>\n",
       "      <td>Feeds on fear and whispers unsettling truths</td>\n",
       "    </tr>\n",
       "    <tr>\n",
       "      <th>4</th>\n",
       "      <td>Zephyr Dancer</td>\n",
       "      <td>Graceful avian creature with iridescent feathers</td>\n",
       "      <td>High mountain peaks and wind-swept plains</td>\n",
       "      <td>Creates mesmerizing aerial displays to attract mates</td>\n",
       "    </tr>\n",
       "  </tbody>\n",
       "</table>\n",
       "</div>"
      ],
      "text/plain": [
       "               name  \\\n",
       "0          Luminoth   \n",
       "1       Aqua Wraith   \n",
       "2  Stoneheart Golem   \n",
       "3  Whispering Shade   \n",
       "4     Zephyr Dancer   \n",
       "\n",
       "                                                        look  \\\n",
       "0          Moth-like creature with glowing wings and antenna   \n",
       "1          Translucent humanoid figure made of flowing water   \n",
       "2  Massive humanoid composed of interlocking rock formations   \n",
       "3                 Shadowy, amorphous being with glowing eyes   \n",
       "4           Graceful avian creature with iridescent feathers   \n",
       "\n",
       "                                               habitat  \\\n",
       "0  Dense forests and jungles with bioluminescent flora   \n",
       "1                     Rivers, lakes, and coastal areas   \n",
       "2                    Rocky mountains and ancient ruins   \n",
       "3                 Dark forests and abandoned buildings   \n",
       "4            High mountain peaks and wind-swept plains   \n",
       "\n",
       "                                                        behavior  \n",
       "0  Emits soothing light patterns to communicate and attract prey  \n",
       "1   Shapeshifts to blend with water bodies and controls currents  \n",
       "2     Hibernates for centuries, awakens to protect its territory  \n",
       "3                   Feeds on fear and whispers unsettling truths  \n",
       "4           Creates mesmerizing aerial displays to attract mates  "
      ]
     },
     "execution_count": 3,
     "metadata": {},
     "output_type": "execute_result"
    }
   ],
   "source": [
    "filename =  \"monsters.json\"\n",
    "\n",
    "with open(filename) as f:\n",
    "    df = pd.DataFrame(json.load(f))\n",
    "\n",
    "df.head()"
   ]
  },
  {
   "cell_type": "code",
   "execution_count": 4,
   "metadata": {},
   "outputs": [
    {
     "data": {
      "text/plain": [
       "[{'look': 'glowing',\n",
       "  'habitat': 'dark places',\n",
       "  'behavior': 'light manipulation'},\n",
       " {'look': 'elemental',\n",
       "  'habitat': 'extreme environments',\n",
       "  'behavior': 'environmental control'},\n",
       " {'look': 'shapeshifting',\n",
       "  'habitat': 'varied landscapes',\n",
       "  'behavior': 'illusion creation'},\n",
       " {'look': 'crystalline',\n",
       "  'habitat': 'mineral-rich areas',\n",
       "  'behavior': 'energy absorption'},\n",
       " {'look': 'ethereal', 'habitat': 'atmospheric', 'behavior': 'mind influence'}]"
      ]
     },
     "execution_count": 4,
     "metadata": {},
     "output_type": "execute_result"
    }
   ],
   "source": [
    "filename =  \"queries.json\"\n",
    "\n",
    "with open(filename) as f:\n",
    "    queries = json.load(f)\n",
    "\n",
    "queries"
   ]
  },
  {
   "cell_type": "markdown",
   "metadata": {},
   "source": [
    "## Retrieval"
   ]
  },
  {
   "cell_type": "code",
   "execution_count": 5,
   "metadata": {},
   "outputs": [],
   "source": [
    "LIMIT = 3\n",
    "MODEL_NAME = \"sentence-transformers/all-mpnet-base-v2\""
   ]
  },
  {
   "cell_type": "markdown",
   "metadata": {},
   "source": [
    "### Naive approach"
   ]
  },
  {
   "cell_type": "code",
   "execution_count": 6,
   "metadata": {},
   "outputs": [
    {
     "name": "stderr",
     "output_type": "stream",
     "text": [
      "/Users/andrey/work/sl/projects/article-multi-attribute-search/.venv/lib/python3.11/site-packages/sentence_transformers/cross_encoder/CrossEncoder.py:11: TqdmWarning: IProgress not found. Please update jupyter and ipywidgets. See https://ipywidgets.readthedocs.io/en/stable/user_install.html\n",
      "  from tqdm.autonotebook import tqdm, trange\n"
     ]
    }
   ],
   "source": [
    "from sklearn.neighbors import NearestNeighbors\n",
    "from sentence_transformers import SentenceTransformer"
   ]
  },
  {
   "cell_type": "code",
   "execution_count": 7,
   "metadata": {},
   "outputs": [],
   "source": [
    "class NaiveRetriever:\n",
    "    def __init__(self, data: pd.DataFrame):\n",
    "        self.model = SentenceTransformer(MODEL_NAME)\n",
    "        self.data = data.copy()\n",
    "        self.ids = self.data.index.to_list()\n",
    "        self.knns = {}\n",
    "        for key in self.data:\n",
    "            embeddings = self.model.encode(self.data[key].values)\n",
    "            knn = NearestNeighbors(metric=\"cosine\").fit(embeddings)\n",
    "            self.knns[key] = knn\n",
    "\n",
    "    def search_key(\n",
    "        self, key: str, value: str, limit: int = LIMIT\n",
    "    ) -> pd.DataFrame:\n",
    "        embedding = self.model.encode(value)\n",
    "        knn = self.knns[key]\n",
    "        distances, indices = knn.kneighbors(\n",
    "            [embedding], n_neighbors=limit, return_distance=True\n",
    "        )\n",
    "        ids = [self.ids[i] for i in indices[0]]\n",
    "        \n",
    "        similarities = (1 - distances).flatten()\n",
    "        # by definition:\n",
    "        # cosine distance = 1 - cosine similarity\n",
    "\n",
    "        result = pd.DataFrame({\"id\": ids, f\"score_{key}\": similarities, key: self.data[key][ids]})\n",
    "        result.set_index(\"id\", inplace=True)\n",
    "\n",
    "        return result\n",
    "\n",
    "    def search(self, query: dict, limit: int = LIMIT) -> pd.DataFrame:\n",
    "        results = []\n",
    "        for key, value in query.items():\n",
    "            if key not in self.knns:\n",
    "                continue\n",
    "            result_key = self.search_key(key, value, limit=limit)\n",
    "            result_key.drop(columns=[key], inplace=True)\n",
    "            results.append(result_key)\n",
    "\n",
    "        merged_results = pd.concat(results, axis=1)\n",
    "        merged_results[\"score\"] = merged_results.mean(axis=1, skipna=False)\n",
    "        merged_results.sort_values(\"score\", ascending=False, inplace=True)\n",
    "        return merged_results"
   ]
  },
  {
   "cell_type": "code",
   "execution_count": 8,
   "metadata": {},
   "outputs": [],
   "source": [
    "naive_retriever = NaiveRetriever(df.set_index(\"name\"))"
   ]
  },
  {
   "cell_type": "markdown",
   "metadata": {},
   "source": [
    "### Search monsters by features"
   ]
  },
  {
   "cell_type": "code",
   "execution_count": 9,
   "metadata": {},
   "outputs": [
    {
     "data": {
      "text/plain": [
       "{'look': 'glowing', 'habitat': 'dark places', 'behavior': 'light manipulation'}"
      ]
     },
     "execution_count": 9,
     "metadata": {},
     "output_type": "execute_result"
    }
   ],
   "source": [
    "query = queries[0]\n",
    "query"
   ]
  },
  {
   "cell_type": "code",
   "execution_count": 10,
   "metadata": {},
   "outputs": [
    {
     "name": "stdout",
     "output_type": "stream",
     "text": [
      "**look**\n",
      "| id               |   score_look | look                                              |\n",
      "|:-----------------|-------------:|:--------------------------------------------------|\n",
      "| Whispering Shade |     0.503578 | Shadowy, amorphous being with glowing eyes        |\n",
      "| Sandstorm Djinn  |     0.407344 | Swirling vortex of sand with glowing symbols      |\n",
      "| Luminoth         |     0.378619 | Moth-like creature with glowing wings and antenna |\n",
      "\n",
      "**habitat**\n",
      "| id                  |   score_habitat | habitat                              |\n",
      "|:--------------------|----------------:|:-------------------------------------|\n",
      "| Whispering Shade    |        0.609567 | Dark forests and abandoned buildings |\n",
      "| Fungal Network      |        0.438856 | Underground caverns and damp forests |\n",
      "| Thornvine Elemental |        0.423421 | Overgrown ruins and dense jungles    |\n",
      "\n",
      "**behavior**\n",
      "| id                |   score_behavior | behavior                                                       |\n",
      "|:------------------|-----------------:|:---------------------------------------------------------------|\n",
      "| Living Graffiti   |         0.385741 | Shapeshifts to blend with surroundings and absorbs pigments    |\n",
      "| Crystalwing Drake |         0.385211 | Hoards precious gems and can refract light into powerful beams |\n",
      "| Luminoth          |         0.345566 | Emits soothing light patterns to communicate and attract prey  |\n",
      "\n"
     ]
    }
   ],
   "source": [
    "for key, value in query.items():\n",
    "    result = naive_retriever.search_key(key, value)\n",
    "    content = (\n",
    "        f\"**{key}**\\n\"\n",
    "        f\"{result.to_markdown()}\"\n",
    "        \"\\n\"\n",
    "    )\n",
    "    print(content)"
   ]
  },
  {
   "cell_type": "code",
   "execution_count": 11,
   "metadata": {},
   "outputs": [
    {
     "data": {
      "text/html": [
       "<div>\n",
       "<style scoped>\n",
       "    .dataframe tbody tr th:only-of-type {\n",
       "        vertical-align: middle;\n",
       "    }\n",
       "\n",
       "    .dataframe tbody tr th {\n",
       "        vertical-align: top;\n",
       "    }\n",
       "\n",
       "    .dataframe thead th {\n",
       "        text-align: right;\n",
       "    }\n",
       "</style>\n",
       "<table border=\"1\" class=\"dataframe\">\n",
       "  <thead>\n",
       "    <tr style=\"text-align: right;\">\n",
       "      <th></th>\n",
       "      <th>score_look</th>\n",
       "      <th>score_habitat</th>\n",
       "      <th>score_behavior</th>\n",
       "      <th>score</th>\n",
       "    </tr>\n",
       "    <tr>\n",
       "      <th>id</th>\n",
       "      <th></th>\n",
       "      <th></th>\n",
       "      <th></th>\n",
       "      <th></th>\n",
       "    </tr>\n",
       "  </thead>\n",
       "  <tbody>\n",
       "    <tr>\n",
       "      <th>Whispering Shade</th>\n",
       "      <td>0.503578</td>\n",
       "      <td>0.609567</td>\n",
       "      <td>NaN</td>\n",
       "      <td>NaN</td>\n",
       "    </tr>\n",
       "    <tr>\n",
       "      <th>Sandstorm Djinn</th>\n",
       "      <td>0.407344</td>\n",
       "      <td>0.365061</td>\n",
       "      <td>NaN</td>\n",
       "      <td>NaN</td>\n",
       "    </tr>\n",
       "    <tr>\n",
       "      <th>Luminoth</th>\n",
       "      <td>0.378619</td>\n",
       "      <td>NaN</td>\n",
       "      <td>0.345566</td>\n",
       "      <td>NaN</td>\n",
       "    </tr>\n",
       "    <tr>\n",
       "      <th>Nebula Jellyfish</th>\n",
       "      <td>0.366270</td>\n",
       "      <td>NaN</td>\n",
       "      <td>0.259969</td>\n",
       "      <td>NaN</td>\n",
       "    </tr>\n",
       "    <tr>\n",
       "      <th>Dreamweaver Octopus</th>\n",
       "      <td>0.315679</td>\n",
       "      <td>NaN</td>\n",
       "      <td>NaN</td>\n",
       "      <td>NaN</td>\n",
       "    </tr>\n",
       "    <tr>\n",
       "      <th>Quantum Firefly</th>\n",
       "      <td>0.288577</td>\n",
       "      <td>NaN</td>\n",
       "      <td>NaN</td>\n",
       "      <td>NaN</td>\n",
       "    </tr>\n",
       "    <tr>\n",
       "      <th>Fungal Network</th>\n",
       "      <td>NaN</td>\n",
       "      <td>0.438856</td>\n",
       "      <td>NaN</td>\n",
       "      <td>NaN</td>\n",
       "    </tr>\n",
       "    <tr>\n",
       "      <th>Thornvine Elemental</th>\n",
       "      <td>NaN</td>\n",
       "      <td>0.423421</td>\n",
       "      <td>NaN</td>\n",
       "      <td>NaN</td>\n",
       "    </tr>\n",
       "    <tr>\n",
       "      <th>Mist Phantom</th>\n",
       "      <td>NaN</td>\n",
       "      <td>0.366815</td>\n",
       "      <td>0.236649</td>\n",
       "      <td>NaN</td>\n",
       "    </tr>\n",
       "    <tr>\n",
       "      <th>Stoneheart Golem</th>\n",
       "      <td>NaN</td>\n",
       "      <td>0.342287</td>\n",
       "      <td>NaN</td>\n",
       "      <td>NaN</td>\n",
       "    </tr>\n",
       "    <tr>\n",
       "      <th>Living Graffiti</th>\n",
       "      <td>NaN</td>\n",
       "      <td>NaN</td>\n",
       "      <td>0.385741</td>\n",
       "      <td>NaN</td>\n",
       "    </tr>\n",
       "    <tr>\n",
       "      <th>Crystalwing Drake</th>\n",
       "      <td>NaN</td>\n",
       "      <td>NaN</td>\n",
       "      <td>0.385211</td>\n",
       "      <td>NaN</td>\n",
       "    </tr>\n",
       "    <tr>\n",
       "      <th>Aqua Wraith</th>\n",
       "      <td>NaN</td>\n",
       "      <td>NaN</td>\n",
       "      <td>0.283581</td>\n",
       "      <td>NaN</td>\n",
       "    </tr>\n",
       "  </tbody>\n",
       "</table>\n",
       "</div>"
      ],
      "text/plain": [
       "                     score_look  score_habitat  score_behavior  score\n",
       "id                                                                   \n",
       "Whispering Shade       0.503578       0.609567             NaN    NaN\n",
       "Sandstorm Djinn        0.407344       0.365061             NaN    NaN\n",
       "Luminoth               0.378619            NaN        0.345566    NaN\n",
       "Nebula Jellyfish       0.366270            NaN        0.259969    NaN\n",
       "Dreamweaver Octopus    0.315679            NaN             NaN    NaN\n",
       "Quantum Firefly        0.288577            NaN             NaN    NaN\n",
       "Fungal Network              NaN       0.438856             NaN    NaN\n",
       "Thornvine Elemental         NaN       0.423421             NaN    NaN\n",
       "Mist Phantom                NaN       0.366815        0.236649    NaN\n",
       "Stoneheart Golem            NaN       0.342287             NaN    NaN\n",
       "Living Graffiti             NaN            NaN        0.385741    NaN\n",
       "Crystalwing Drake           NaN            NaN        0.385211    NaN\n",
       "Aqua Wraith                 NaN            NaN        0.283581    NaN"
      ]
     },
     "execution_count": 11,
     "metadata": {},
     "output_type": "execute_result"
    }
   ],
   "source": [
    "naive_retriever.search(query, limit=6)"
   ]
  },
  {
   "cell_type": "markdown",
   "metadata": {},
   "source": [
    "### Search monsters similar to existing one"
   ]
  },
  {
   "cell_type": "code",
   "execution_count": 12,
   "metadata": {},
   "outputs": [
    {
     "data": {
      "text/plain": [
       "{'name': 'Harmonic Coral',\n",
       " 'look': 'Branching, musical instrument-like structure with vibrating tendrils',\n",
       " 'habitat': 'Shallow seas and tidal pools',\n",
       " 'behavior': 'Creates complex melodies to communicate and influence emotions'}"
      ]
     },
     "execution_count": 12,
     "metadata": {},
     "output_type": "execute_result"
    }
   ],
   "source": [
    "query = df.iloc[-1].to_dict()\n",
    "query"
   ]
  },
  {
   "cell_type": "code",
   "execution_count": 13,
   "metadata": {},
   "outputs": [
    {
     "data": {
      "text/html": [
       "<div>\n",
       "<style scoped>\n",
       "    .dataframe tbody tr th:only-of-type {\n",
       "        vertical-align: middle;\n",
       "    }\n",
       "\n",
       "    .dataframe tbody tr th {\n",
       "        vertical-align: top;\n",
       "    }\n",
       "\n",
       "    .dataframe thead th {\n",
       "        text-align: right;\n",
       "    }\n",
       "</style>\n",
       "<table border=\"1\" class=\"dataframe\">\n",
       "  <thead>\n",
       "    <tr style=\"text-align: right;\">\n",
       "      <th></th>\n",
       "      <th>score_look</th>\n",
       "      <th>score_habitat</th>\n",
       "      <th>score_behavior</th>\n",
       "      <th>score</th>\n",
       "    </tr>\n",
       "    <tr>\n",
       "      <th>id</th>\n",
       "      <th></th>\n",
       "      <th></th>\n",
       "      <th></th>\n",
       "      <th></th>\n",
       "    </tr>\n",
       "  </thead>\n",
       "  <tbody>\n",
       "    <tr>\n",
       "      <th>Harmonic Coral</th>\n",
       "      <td>1.000000</td>\n",
       "      <td>1.000000</td>\n",
       "      <td>1.000000</td>\n",
       "      <td>1.0</td>\n",
       "    </tr>\n",
       "    <tr>\n",
       "      <th>Thornvine Elemental</th>\n",
       "      <td>0.437504</td>\n",
       "      <td>NaN</td>\n",
       "      <td>NaN</td>\n",
       "      <td>NaN</td>\n",
       "    </tr>\n",
       "    <tr>\n",
       "      <th>Plasma Serpent</th>\n",
       "      <td>0.421306</td>\n",
       "      <td>NaN</td>\n",
       "      <td>NaN</td>\n",
       "      <td>NaN</td>\n",
       "    </tr>\n",
       "    <tr>\n",
       "      <th>Dreamweaver Octopus</th>\n",
       "      <td>NaN</td>\n",
       "      <td>0.527561</td>\n",
       "      <td>NaN</td>\n",
       "      <td>NaN</td>\n",
       "    </tr>\n",
       "    <tr>\n",
       "      <th>Aqua Wraith</th>\n",
       "      <td>NaN</td>\n",
       "      <td>0.506463</td>\n",
       "      <td>NaN</td>\n",
       "      <td>NaN</td>\n",
       "    </tr>\n",
       "    <tr>\n",
       "      <th>Zephyr Dancer</th>\n",
       "      <td>NaN</td>\n",
       "      <td>NaN</td>\n",
       "      <td>0.429848</td>\n",
       "      <td>NaN</td>\n",
       "    </tr>\n",
       "    <tr>\n",
       "      <th>Luminoth</th>\n",
       "      <td>NaN</td>\n",
       "      <td>NaN</td>\n",
       "      <td>0.428380</td>\n",
       "      <td>NaN</td>\n",
       "    </tr>\n",
       "  </tbody>\n",
       "</table>\n",
       "</div>"
      ],
      "text/plain": [
       "                     score_look  score_habitat  score_behavior  score\n",
       "id                                                                   \n",
       "Harmonic Coral         1.000000       1.000000        1.000000    1.0\n",
       "Thornvine Elemental    0.437504            NaN             NaN    NaN\n",
       "Plasma Serpent         0.421306            NaN             NaN    NaN\n",
       "Dreamweaver Octopus         NaN       0.527561             NaN    NaN\n",
       "Aqua Wraith                 NaN       0.506463             NaN    NaN\n",
       "Zephyr Dancer               NaN            NaN        0.429848    NaN\n",
       "Luminoth                    NaN            NaN        0.428380    NaN"
      ]
     },
     "execution_count": 13,
     "metadata": {},
     "output_type": "execute_result"
    }
   ],
   "source": [
    "naive_retriever.search(query)"
   ]
  },
  {
   "cell_type": "markdown",
   "metadata": {},
   "source": [
    "## Superlinked"
   ]
  },
  {
   "cell_type": "code",
   "execution_count": 14,
   "metadata": {},
   "outputs": [],
   "source": [
    "from superlinked.framework.common.schema.id_schema_object import IdField\n",
    "from superlinked.framework.common.schema.schema import schema\n",
    "from superlinked.framework.common.schema.schema_object import String\n",
    "from superlinked.framework.dsl.index.index import Index\n",
    "from superlinked.framework.dsl.space.text_similarity_space import TextSimilaritySpace\n",
    "from superlinked.framework.dsl.query.param import Param\n",
    "\n",
    "from superlinked.framework.dsl.executor.in_memory.in_memory_executor import (\n",
    "    InMemoryExecutor,\n",
    ")\n",
    "from superlinked.framework.dsl.source.in_memory_source import InMemorySource\n",
    "from superlinked.framework.dsl.query.query import Query\n",
    "\n",
    "from superlinked.framework.common.parser.dataframe_parser import DataFrameParser"
   ]
  },
  {
   "cell_type": "code",
   "execution_count": 15,
   "metadata": {},
   "outputs": [],
   "source": [
    "@schema\n",
    "class Monster:\n",
    "    id: IdField\n",
    "    look: String\n",
    "    habitat: String\n",
    "    behavior: String\n",
    "\n",
    "\n",
    "monster = Monster()"
   ]
  },
  {
   "cell_type": "code",
   "execution_count": 16,
   "metadata": {},
   "outputs": [],
   "source": [
    "look_space = TextSimilaritySpace(text=monster.look, model=MODEL_NAME)\n",
    "habitat_space = TextSimilaritySpace(text=monster.habitat, model=MODEL_NAME)\n",
    "behavior_space = TextSimilaritySpace(text=monster.behavior, model=MODEL_NAME)\n",
    "monster_index = Index([look_space, habitat_space, behavior_space])"
   ]
  },
  {
   "cell_type": "code",
   "execution_count": 17,
   "metadata": {},
   "outputs": [],
   "source": [
    "monster_parser = DataFrameParser(monster, mapping={monster.id: \"name\"})"
   ]
  },
  {
   "cell_type": "code",
   "execution_count": 18,
   "metadata": {},
   "outputs": [],
   "source": [
    "source: InMemorySource = InMemorySource(monster, parser=monster_parser)\n",
    "executor = InMemoryExecutor(sources=[source], indices=[monster_index])\n",
    "app = executor.run()"
   ]
  },
  {
   "cell_type": "code",
   "execution_count": 19,
   "metadata": {},
   "outputs": [],
   "source": [
    "source.put([df])"
   ]
  },
  {
   "cell_type": "code",
   "execution_count": 20,
   "metadata": {},
   "outputs": [],
   "source": [
    "monster_query = (\n",
    "    Query(monster_index)\n",
    "    .find(monster)\n",
    "    .similar(look_space.text, Param(\"look\"))\n",
    "    .similar(habitat_space.text, Param(\"habitat\"))\n",
    "    .similar(behavior_space.text, Param(\"behavior\"))\n",
    "    .limit(LIMIT)\n",
    ")"
   ]
  },
  {
   "cell_type": "code",
   "execution_count": 21,
   "metadata": {},
   "outputs": [],
   "source": [
    "def format_result(result) -> pd.DataFrame:\n",
    "    scores = [entry.entity.score for entry in result.entries]\n",
    "    df = result.to_pandas()\n",
    "    df.insert(0, \"score\", scores)\n",
    "    df.set_index(\"id\", inplace=True)\n",
    "    return df"
   ]
  },
  {
   "cell_type": "markdown",
   "metadata": {},
   "source": [
    "### Search monsters by features"
   ]
  },
  {
   "cell_type": "code",
   "execution_count": 22,
   "metadata": {},
   "outputs": [
    {
     "data": {
      "text/plain": [
       "{'look': 'glowing', 'habitat': 'dark places', 'behavior': 'light manipulation'}"
      ]
     },
     "execution_count": 22,
     "metadata": {},
     "output_type": "execute_result"
    }
   ],
   "source": [
    "query = queries[0]\n",
    "query"
   ]
  },
  {
   "cell_type": "code",
   "execution_count": 23,
   "metadata": {},
   "outputs": [
    {
     "data": {
      "text/html": [
       "<div>\n",
       "<style scoped>\n",
       "    .dataframe tbody tr th:only-of-type {\n",
       "        vertical-align: middle;\n",
       "    }\n",
       "\n",
       "    .dataframe tbody tr th {\n",
       "        vertical-align: top;\n",
       "    }\n",
       "\n",
       "    .dataframe thead th {\n",
       "        text-align: right;\n",
       "    }\n",
       "</style>\n",
       "<table border=\"1\" class=\"dataframe\">\n",
       "  <thead>\n",
       "    <tr style=\"text-align: right;\">\n",
       "      <th></th>\n",
       "      <th>score</th>\n",
       "      <th>look</th>\n",
       "      <th>habitat</th>\n",
       "      <th>behavior</th>\n",
       "    </tr>\n",
       "    <tr>\n",
       "      <th>id</th>\n",
       "      <th></th>\n",
       "      <th></th>\n",
       "      <th></th>\n",
       "      <th></th>\n",
       "    </tr>\n",
       "  </thead>\n",
       "  <tbody>\n",
       "    <tr>\n",
       "      <th>Whispering Shade</th>\n",
       "      <td>0.376738</td>\n",
       "      <td>Shadowy, amorphous being with glowing eyes</td>\n",
       "      <td>Dark forests and abandoned buildings</td>\n",
       "      <td>Feeds on fear and whispers unsettling truths</td>\n",
       "    </tr>\n",
       "    <tr>\n",
       "      <th>Luminoth</th>\n",
       "      <td>0.340084</td>\n",
       "      <td>Moth-like creature with glowing wings and antenna</td>\n",
       "      <td>Dense forests and jungles with bioluminescent flora</td>\n",
       "      <td>Emits soothing light patterns to communicate and attract prey</td>\n",
       "    </tr>\n",
       "    <tr>\n",
       "      <th>Living Graffiti</th>\n",
       "      <td>0.330587</td>\n",
       "      <td>Two-dimensional, colorful creature that inhabits flat surfaces</td>\n",
       "      <td>Urban areas, particularly walls and billboards</td>\n",
       "      <td>Shapeshifts to blend with surroundings and absorbs pigments</td>\n",
       "    </tr>\n",
       "  </tbody>\n",
       "</table>\n",
       "</div>"
      ],
      "text/plain": [
       "                     score  \\\n",
       "id                           \n",
       "Whispering Shade  0.376738   \n",
       "Luminoth          0.340084   \n",
       "Living Graffiti   0.330587   \n",
       "\n",
       "                                                                            look  \\\n",
       "id                                                                                 \n",
       "Whispering Shade                      Shadowy, amorphous being with glowing eyes   \n",
       "Luminoth                       Moth-like creature with glowing wings and antenna   \n",
       "Living Graffiti   Two-dimensional, colorful creature that inhabits flat surfaces   \n",
       "\n",
       "                                                              habitat  \\\n",
       "id                                                                      \n",
       "Whispering Shade                 Dark forests and abandoned buildings   \n",
       "Luminoth          Dense forests and jungles with bioluminescent flora   \n",
       "Living Graffiti        Urban areas, particularly walls and billboards   \n",
       "\n",
       "                                                                       behavior  \n",
       "id                                                                               \n",
       "Whispering Shade                   Feeds on fear and whispers unsettling truths  \n",
       "Luminoth          Emits soothing light patterns to communicate and attract prey  \n",
       "Living Graffiti     Shapeshifts to blend with surroundings and absorbs pigments  "
      ]
     },
     "execution_count": 23,
     "metadata": {},
     "output_type": "execute_result"
    }
   ],
   "source": [
    "result = app.query(monster_query, limit=LIMIT, **query)\n",
    "\n",
    "format_result(result)"
   ]
  },
  {
   "cell_type": "markdown",
   "metadata": {},
   "source": [
    "### Search monsters similar to existing one"
   ]
  },
  {
   "cell_type": "code",
   "execution_count": 24,
   "metadata": {},
   "outputs": [
    {
     "data": {
      "text/plain": [
       "{'name': 'Harmonic Coral',\n",
       " 'look': 'Branching, musical instrument-like structure with vibrating tendrils',\n",
       " 'habitat': 'Shallow seas and tidal pools',\n",
       " 'behavior': 'Creates complex melodies to communicate and influence emotions'}"
      ]
     },
     "execution_count": 24,
     "metadata": {},
     "output_type": "execute_result"
    }
   ],
   "source": [
    "query = df.iloc[-1].to_dict()\n",
    "query"
   ]
  },
  {
   "cell_type": "code",
   "execution_count": 25,
   "metadata": {},
   "outputs": [
    {
     "data": {
      "text/html": [
       "<div>\n",
       "<style scoped>\n",
       "    .dataframe tbody tr th:only-of-type {\n",
       "        vertical-align: middle;\n",
       "    }\n",
       "\n",
       "    .dataframe tbody tr th {\n",
       "        vertical-align: top;\n",
       "    }\n",
       "\n",
       "    .dataframe thead th {\n",
       "        text-align: right;\n",
       "    }\n",
       "</style>\n",
       "<table border=\"1\" class=\"dataframe\">\n",
       "  <thead>\n",
       "    <tr style=\"text-align: right;\">\n",
       "      <th></th>\n",
       "      <th>score</th>\n",
       "      <th>look</th>\n",
       "      <th>habitat</th>\n",
       "      <th>behavior</th>\n",
       "    </tr>\n",
       "    <tr>\n",
       "      <th>id</th>\n",
       "      <th></th>\n",
       "      <th></th>\n",
       "      <th></th>\n",
       "      <th></th>\n",
       "    </tr>\n",
       "  </thead>\n",
       "  <tbody>\n",
       "    <tr>\n",
       "      <th>Harmonic Coral</th>\n",
       "      <td>1.000000</td>\n",
       "      <td>Branching, musical instrument-like structure with vibrating tendrils</td>\n",
       "      <td>Shallow seas and tidal pools</td>\n",
       "      <td>Creates complex melodies to communicate and influence emotions</td>\n",
       "    </tr>\n",
       "    <tr>\n",
       "      <th>Dreamweaver Octopus</th>\n",
       "      <td>0.402288</td>\n",
       "      <td>Cephalopod with tentacles that shimmer like auroras</td>\n",
       "      <td>Deep ocean trenches and underwater caves</td>\n",
       "      <td>Influences the dreams of nearby creatures</td>\n",
       "    </tr>\n",
       "    <tr>\n",
       "      <th>Aqua Wraith</th>\n",
       "      <td>0.330869</td>\n",
       "      <td>Translucent humanoid figure made of flowing water</td>\n",
       "      <td>Rivers, lakes, and coastal areas</td>\n",
       "      <td>Shapeshifts to blend with water bodies and controls currents</td>\n",
       "    </tr>\n",
       "  </tbody>\n",
       "</table>\n",
       "</div>"
      ],
      "text/plain": [
       "                        score  \\\n",
       "id                              \n",
       "Harmonic Coral       1.000000   \n",
       "Dreamweaver Octopus  0.402288   \n",
       "Aqua Wraith          0.330869   \n",
       "\n",
       "                                                                                     look  \\\n",
       "id                                                                                          \n",
       "Harmonic Coral       Branching, musical instrument-like structure with vibrating tendrils   \n",
       "Dreamweaver Octopus                   Cephalopod with tentacles that shimmer like auroras   \n",
       "Aqua Wraith                             Translucent humanoid figure made of flowing water   \n",
       "\n",
       "                                                      habitat  \\\n",
       "id                                                              \n",
       "Harmonic Coral                   Shallow seas and tidal pools   \n",
       "Dreamweaver Octopus  Deep ocean trenches and underwater caves   \n",
       "Aqua Wraith                  Rivers, lakes, and coastal areas   \n",
       "\n",
       "                                                                           behavior  \n",
       "id                                                                                   \n",
       "Harmonic Coral       Creates complex melodies to communicate and influence emotions  \n",
       "Dreamweaver Octopus                       Influences the dreams of nearby creatures  \n",
       "Aqua Wraith            Shapeshifts to blend with water bodies and controls currents  "
      ]
     },
     "execution_count": 25,
     "metadata": {},
     "output_type": "execute_result"
    }
   ],
   "source": [
    "result = app.query(monster_query, limit=LIMIT, **query)\n",
    "\n",
    "format_result(result)"
   ]
  },
  {
   "cell_type": "markdown",
   "metadata": {},
   "source": [
    "### weights"
   ]
  },
  {
   "cell_type": "code",
   "execution_count": 26,
   "metadata": {},
   "outputs": [],
   "source": [
    "monster_query_with_weights = (\n",
    "    Query(monster_index, weights={\n",
    "        look_space: Param(\"look_weight\"),\n",
    "        habitat_space: Param(\"habitat_weight\"),\n",
    "        behavior_space: Param(\"behavior_weight\")\n",
    "    })\n",
    "    .find(monster)\n",
    "    .similar(look_space.text, Param(\"look\"))\n",
    "    .similar(habitat_space.text, Param(\"habitat\"))\n",
    "    .similar(behavior_space.text, Param(\"behavior\"))\n",
    "    .limit(LIMIT)\n",
    ")"
   ]
  },
  {
   "cell_type": "code",
   "execution_count": 27,
   "metadata": {},
   "outputs": [
    {
     "data": {
      "text/plain": [
       "{'name': 'Harmonic Coral',\n",
       " 'look': 'Branching, musical instrument-like structure with vibrating tendrils',\n",
       " 'habitat': 'Shallow seas and tidal pools',\n",
       " 'behavior': 'Creates complex melodies to communicate and influence emotions'}"
      ]
     },
     "execution_count": 27,
     "metadata": {},
     "output_type": "execute_result"
    }
   ],
   "source": [
    "query = df.iloc[-1].to_dict()\n",
    "query"
   ]
  },
  {
   "cell_type": "code",
   "execution_count": 28,
   "metadata": {},
   "outputs": [],
   "source": [
    "weights = {\n",
    "    \"look_weight\": 0.5,\n",
    "    \"habitat_weight\": -1.0,\n",
    "    \"behavior_weight\": 1.0\n",
    "}"
   ]
  },
  {
   "cell_type": "code",
   "execution_count": 29,
   "metadata": {},
   "outputs": [
    {
     "data": {
      "text/html": [
       "<div>\n",
       "<style scoped>\n",
       "    .dataframe tbody tr th:only-of-type {\n",
       "        vertical-align: middle;\n",
       "    }\n",
       "\n",
       "    .dataframe tbody tr th {\n",
       "        vertical-align: top;\n",
       "    }\n",
       "\n",
       "    .dataframe thead th {\n",
       "        text-align: right;\n",
       "    }\n",
       "</style>\n",
       "<table border=\"1\" class=\"dataframe\">\n",
       "  <thead>\n",
       "    <tr style=\"text-align: right;\">\n",
       "      <th></th>\n",
       "      <th>score</th>\n",
       "      <th>look</th>\n",
       "      <th>habitat</th>\n",
       "      <th>behavior</th>\n",
       "    </tr>\n",
       "    <tr>\n",
       "      <th>id</th>\n",
       "      <th></th>\n",
       "      <th></th>\n",
       "      <th></th>\n",
       "      <th></th>\n",
       "    </tr>\n",
       "  </thead>\n",
       "  <tbody>\n",
       "    <tr>\n",
       "      <th>Harmonic Coral</th>\n",
       "      <td>0.192450</td>\n",
       "      <td>Branching, musical instrument-like structure with vibrating tendrils</td>\n",
       "      <td>Shallow seas and tidal pools</td>\n",
       "      <td>Creates complex melodies to communicate and influence emotions</td>\n",
       "    </tr>\n",
       "    <tr>\n",
       "      <th>Luminoth</th>\n",
       "      <td>0.149196</td>\n",
       "      <td>Moth-like creature with glowing wings and antenna</td>\n",
       "      <td>Dense forests and jungles with bioluminescent flora</td>\n",
       "      <td>Emits soothing light patterns to communicate and attract prey</td>\n",
       "    </tr>\n",
       "    <tr>\n",
       "      <th>Zephyr Dancer</th>\n",
       "      <td>0.136456</td>\n",
       "      <td>Graceful avian creature with iridescent feathers</td>\n",
       "      <td>High mountain peaks and wind-swept plains</td>\n",
       "      <td>Creates mesmerizing aerial displays to attract mates</td>\n",
       "    </tr>\n",
       "  </tbody>\n",
       "</table>\n",
       "</div>"
      ],
      "text/plain": [
       "                   score  \\\n",
       "id                         \n",
       "Harmonic Coral  0.192450   \n",
       "Luminoth        0.149196   \n",
       "Zephyr Dancer   0.136456   \n",
       "\n",
       "                                                                                look  \\\n",
       "id                                                                                     \n",
       "Harmonic Coral  Branching, musical instrument-like structure with vibrating tendrils   \n",
       "Luminoth                           Moth-like creature with glowing wings and antenna   \n",
       "Zephyr Dancer                       Graceful avian creature with iridescent feathers   \n",
       "\n",
       "                                                            habitat  \\\n",
       "id                                                                    \n",
       "Harmonic Coral                         Shallow seas and tidal pools   \n",
       "Luminoth        Dense forests and jungles with bioluminescent flora   \n",
       "Zephyr Dancer             High mountain peaks and wind-swept plains   \n",
       "\n",
       "                                                                      behavior  \n",
       "id                                                                              \n",
       "Harmonic Coral  Creates complex melodies to communicate and influence emotions  \n",
       "Luminoth         Emits soothing light patterns to communicate and attract prey  \n",
       "Zephyr Dancer             Creates mesmerizing aerial displays to attract mates  "
      ]
     },
     "execution_count": 29,
     "metadata": {},
     "output_type": "execute_result"
    }
   ],
   "source": [
    "result = app.query(monster_query_with_weights, limit=LIMIT, **weights, **query)\n",
    "\n",
    "format_result(result)"
   ]
  }
 ],
 "metadata": {
  "kernelspec": {
   "display_name": ".venv",
   "language": "python",
   "name": "python3"
  },
  "language_info": {
   "codemirror_mode": {
    "name": "ipython",
    "version": 3
   },
   "file_extension": ".py",
   "mimetype": "text/x-python",
   "name": "python",
   "nbconvert_exporter": "python",
   "pygments_lexer": "ipython3",
   "version": "3.11.9"
  }
 },
 "nbformat": 4,
 "nbformat_minor": 2
}
